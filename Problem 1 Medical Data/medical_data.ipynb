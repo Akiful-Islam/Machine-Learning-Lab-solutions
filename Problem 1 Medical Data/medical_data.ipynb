{
  "cells": [
    {
      "cell_type": "markdown",
      "metadata": {
        "colab_type": "text",
        "id": "3DR-eO17geWu"
      },
      "source": [
        "# Convolutional Neural Network"
      ]
    },
    {
      "cell_type": "markdown",
      "metadata": {
        "colab_type": "text",
        "id": "EMefrVPCg-60"
      },
      "source": [
        "### Importing the libraries"
      ]
    },
    {
      "cell_type": "code",
      "execution_count": 46,
      "metadata": {
        "colab": {},
        "colab_type": "code",
        "id": "sCV30xyVhFbE"
      },
      "outputs": [],
      "source": [
        "import tensorflow as tf\n",
        "from keras.preprocessing.image import ImageDataGenerator"
      ]
    },
    {
      "cell_type": "code",
      "execution_count": 47,
      "metadata": {
        "colab": {},
        "colab_type": "code",
        "id": "FIleuCAjoFD8"
      },
      "outputs": [
        {
          "data": {
            "text/plain": [
              "'2.15.0'"
            ]
          },
          "execution_count": 47,
          "metadata": {},
          "output_type": "execute_result"
        }
      ],
      "source": [
        "tf.__version__"
      ]
    },
    {
      "cell_type": "markdown",
      "metadata": {
        "colab_type": "text",
        "id": "oxQxCBWyoGPE"
      },
      "source": [
        "## Part 1 - Data Preprocessing"
      ]
    },
    {
      "cell_type": "markdown",
      "metadata": {
        "colab_type": "text",
        "id": "MvE-heJNo3GG"
      },
      "source": [
        "### Preprocessing the Training set"
      ]
    },
    {
      "cell_type": "code",
      "execution_count": 48,
      "metadata": {
        "colab": {},
        "colab_type": "code",
        "id": "0koUcJMJpEBD"
      },
      "outputs": [
        {
          "name": "stdout",
          "output_type": "stream",
          "text": [
            "Found 5216 images belonging to 2 classes.\n"
          ]
        }
      ],
      "source": [
        "train_datagen = ImageDataGenerator(rescale = 1./255,\n",
        "                                   shear_range = 0.2,\n",
        "                                   zoom_range = 0.2,\n",
        "                                   horizontal_flip = True)\n",
        "training_set = train_datagen.flow_from_directory('train',\n",
        "                                                 target_size = (64, 64),\n",
        "                                                 batch_size = 32,\n",
        "                                                 class_mode = 'binary')"
      ]
    },
    {
      "cell_type": "markdown",
      "metadata": {
        "colab_type": "text",
        "id": "mrCMmGw9pHys"
      },
      "source": [
        "### Preprocessing the Validation set"
      ]
    },
    {
      "cell_type": "code",
      "execution_count": 49,
      "metadata": {
        "colab": {},
        "colab_type": "code",
        "id": "SH4WzfOhpKc3"
      },
      "outputs": [
        {
          "name": "stdout",
          "output_type": "stream",
          "text": [
            "Found 16 images belonging to 2 classes.\n"
          ]
        }
      ],
      "source": [
        "validation_datagen = ImageDataGenerator(rescale = 1./255)\n",
        "validation_set = validation_datagen.flow_from_directory('val',\n",
        "                                            target_size = (64, 64),\n",
        "                                            batch_size = 32,\n",
        "                                            class_mode = 'binary')"
      ]
    },
    {
      "cell_type": "markdown",
      "metadata": {
        "colab_type": "text",
        "id": "af8O4l90gk7B"
      },
      "source": [
        "## Part 2 - Building the CNN"
      ]
    },
    {
      "cell_type": "markdown",
      "metadata": {
        "colab_type": "text",
        "id": "ces1gXY2lmoX"
      },
      "source": [
        "### Initialising the CNN"
      ]
    },
    {
      "cell_type": "code",
      "execution_count": 50,
      "metadata": {
        "colab": {},
        "colab_type": "code",
        "id": "SAUt4UMPlhLS"
      },
      "outputs": [],
      "source": [
        "cnn = tf.keras.models.Sequential()"
      ]
    },
    {
      "cell_type": "markdown",
      "metadata": {
        "colab_type": "text",
        "id": "u5YJj_XMl5LF"
      },
      "source": [
        "### Step 1 - Convolution"
      ]
    },
    {
      "cell_type": "code",
      "execution_count": 51,
      "metadata": {
        "colab": {},
        "colab_type": "code",
        "id": "XPzPrMckl-hV"
      },
      "outputs": [],
      "source": [
        "cnn.add(tf.keras.layers.Conv2D(filters=32, kernel_size=3, activation='relu', input_shape=[64, 64, 3]))"
      ]
    },
    {
      "cell_type": "markdown",
      "metadata": {
        "colab_type": "text",
        "id": "tf87FpvxmNOJ"
      },
      "source": [
        "### Step 2 - Pooling"
      ]
    },
    {
      "cell_type": "code",
      "execution_count": 52,
      "metadata": {
        "colab": {},
        "colab_type": "code",
        "id": "ncpqPl69mOac"
      },
      "outputs": [],
      "source": [
        "cnn.add(tf.keras.layers.MaxPool2D(pool_size=2, strides=2))"
      ]
    },
    {
      "cell_type": "markdown",
      "metadata": {
        "colab_type": "text",
        "id": "xaTOgD8rm4mU"
      },
      "source": [
        "### Adding a second convolutional layer"
      ]
    },
    {
      "cell_type": "code",
      "execution_count": 53,
      "metadata": {
        "colab": {},
        "colab_type": "code",
        "id": "i_-FZjn_m8gk"
      },
      "outputs": [],
      "source": [
        "cnn.add(tf.keras.layers.Conv2D(filters=32, kernel_size=3, activation='relu'))\n",
        "cnn.add(tf.keras.layers.MaxPool2D(pool_size=2, strides=2))"
      ]
    },
    {
      "cell_type": "markdown",
      "metadata": {
        "colab_type": "text",
        "id": "tmiEuvTunKfk"
      },
      "source": [
        "### Step 3 - Flattening"
      ]
    },
    {
      "cell_type": "code",
      "execution_count": 54,
      "metadata": {
        "colab": {},
        "colab_type": "code",
        "id": "6AZeOGCvnNZn"
      },
      "outputs": [],
      "source": [
        "cnn.add(tf.keras.layers.Flatten())"
      ]
    },
    {
      "cell_type": "markdown",
      "metadata": {
        "colab_type": "text",
        "id": "dAoSECOm203v"
      },
      "source": [
        "### Step 4 - Full Connection"
      ]
    },
    {
      "cell_type": "code",
      "execution_count": 55,
      "metadata": {
        "colab": {},
        "colab_type": "code",
        "id": "8GtmUlLd26Nq"
      },
      "outputs": [],
      "source": [
        "cnn.add(tf.keras.layers.Dense(units=128, activation='relu'))"
      ]
    },
    {
      "cell_type": "markdown",
      "metadata": {
        "colab_type": "text",
        "id": "yTldFvbX28Na"
      },
      "source": [
        "### Step 5 - Output Layer"
      ]
    },
    {
      "cell_type": "code",
      "execution_count": 56,
      "metadata": {
        "colab": {},
        "colab_type": "code",
        "id": "1p_Zj1Mc3Ko_"
      },
      "outputs": [],
      "source": [
        "cnn.add(tf.keras.layers.Dense(units=1, activation='sigmoid'))"
      ]
    },
    {
      "cell_type": "markdown",
      "metadata": {
        "colab_type": "text",
        "id": "D6XkI90snSDl"
      },
      "source": [
        "## Part 3 - Training the CNN"
      ]
    },
    {
      "cell_type": "markdown",
      "metadata": {
        "colab_type": "text",
        "id": "vfrFQACEnc6i"
      },
      "source": [
        "### Compiling the CNN"
      ]
    },
    {
      "cell_type": "code",
      "execution_count": 57,
      "metadata": {
        "colab": {},
        "colab_type": "code",
        "id": "NALksrNQpUlJ"
      },
      "outputs": [],
      "source": [
        "cnn.compile(optimizer = 'adam', loss = 'binary_crossentropy', metrics = ['accuracy'])"
      ]
    },
    {
      "cell_type": "markdown",
      "metadata": {
        "colab_type": "text",
        "id": "ehS-v3MIpX2h"
      },
      "source": [
        "### Training the CNN on the Training set and evaluating it on the Validation set"
      ]
    },
    {
      "cell_type": "code",
      "execution_count": 88,
      "metadata": {
        "colab": {},
        "colab_type": "code",
        "id": "XUj1W4PJptta"
      },
      "outputs": [
        {
          "name": "stdout",
          "output_type": "stream",
          "text": [
            "Epoch 1/2\n",
            "163/163 [==============================] - 43s 266ms/step - loss: 0.1216 - accuracy: 0.9553 - val_loss: 0.7254 - val_accuracy: 0.6250\n",
            "Epoch 2/2\n",
            "163/163 [==============================] - 39s 239ms/step - loss: 0.1105 - accuracy: 0.9572 - val_loss: 0.8592 - val_accuracy: 0.6250\n"
          ]
        },
        {
          "data": {
            "text/plain": [
              "<keras.src.callbacks.History at 0x1f126089450>"
            ]
          },
          "execution_count": 88,
          "metadata": {},
          "output_type": "execute_result"
        }
      ],
      "source": [
        "EPOCH_SIZE = 2 #change this to 25 for better accuracy, using 5 for speed\n",
        "\n",
        "tensorboard_callback = tf.keras.callbacks.TensorBoard(log_dir=\"logs\")\n",
        "cnn.fit(x = training_set, validation_data = validation_set, epochs = EPOCH_SIZE, callbacks=[tensorboard_callback])"
      ]
    },
    {
      "cell_type": "markdown",
      "metadata": {},
      "source": [
        "### Visualizing Loss and Accuracy"
      ]
    },
    {
      "cell_type": "code",
      "execution_count": 112,
      "metadata": {},
      "outputs": [
        {
          "data": {
            "image/png": "[encoded data removed]",
            "text/plain": [
              "<Figure size 400x300 with 1 Axes>"
            ]
          },
          "metadata": {},
          "output_type": "display_data"
        }
      ],
      "source": [
        "from matplotlib import pyplot as plt\n",
        "\n",
        "plt.figure(figsize=(4,3))\n",
        "plt.plot(cnn.history.history['loss'], color='orange', label='loss')\n",
        "plt.plot(cnn.history.history['val_loss'], color='red', label='val_loss')\n",
        "plt.title('Loss Graph', fontsize=16)\n",
        "plt.legend(loc=\"center right\")\n",
        "plt.show()"
      ]
    },
    {
      "cell_type": "code",
      "execution_count": 113,
      "metadata": {},
      "outputs": [
        {
          "data": {
            "image/png": "[encoded data removed]",
            "text/plain": [
              "<Figure size 400x300 with 1 Axes>"
            ]
          },
          "metadata": {},
          "output_type": "display_data"
        }
      ],
      "source": [
        "plt.figure(figsize=(4,3))\n",
        "plt.plot(cnn.history.history['accuracy'], color='orange', label='accuracy')\n",
        "plt.plot(cnn.history.history['val_accuracy'], color='red', label='val_accuracy')\n",
        "plt.title('Accuracy Graph', fontsize=16)\n",
        "plt.legend(loc='center right')\n",
        "plt.show()"
      ]
    },
    {
      "cell_type": "markdown",
      "metadata": {
        "colab_type": "text",
        "id": "U3PZasO0006Z"
      },
      "source": [
        "## Part 4 - Making predictions"
      ]
    },
    {
      "cell_type": "code",
      "execution_count": 69,
      "metadata": {},
      "outputs": [
        {
          "name": "stdout",
          "output_type": "stream",
          "text": [
            "Found 624 images belonging to 2 classes.\n"
          ]
        }
      ],
      "source": [
        "test_datagen = ImageDataGenerator(rescale = 1./255)\n",
        "test_set = test_datagen.flow_from_directory('test', target_size = (64, 64), batch_size = 1, class_mode = 'binary', shuffle=False)"
      ]
    },
    {
      "cell_type": "code",
      "execution_count": 70,
      "metadata": {},
      "outputs": [
        {
          "name": "stdout",
          "output_type": "stream",
          "text": [
            "  5/624 [..............................] - ETA: 8s "
          ]
        },
        {
          "name": "stderr",
          "output_type": "stream",
          "text": [
            "C:\\Users\\Dell\\AppData\\Local\\Temp\\ipykernel_18264\\1874418497.py:3: UserWarning: `Model.predict_generator` is deprecated and will be removed in a future version. Please use `Model.predict`, which supports generators.\n",
            "  predictions = cnn.predict_generator(test_set, steps=len(test_set), verbose=1)\n"
          ]
        },
        {
          "name": "stdout",
          "output_type": "stream",
          "text": [
            "624/624 [==============================] - 5s 7ms/step\n",
            "Prediction for NORMAL\\IM-0001-0001.jpeg: NORMAL\n",
            "Prediction for NORMAL\\IM-0003-0001.jpeg: NORMAL\n",
            "Prediction for NORMAL\\IM-0005-0001.jpeg: NORMAL\n",
            "Prediction for NORMAL\\IM-0006-0001.jpeg: NORMAL\n",
            "Prediction for NORMAL\\IM-0007-0001.jpeg: NORMAL\n",
            "Prediction for NORMAL\\IM-0009-0001.jpeg: NORMAL\n",
            "Prediction for NORMAL\\IM-0010-0001.jpeg: NORMAL\n",
            "Prediction for NORMAL\\IM-0011-0001-0001.jpeg: NORMAL\n",
            "Prediction for NORMAL\\IM-0011-0001-0002.jpeg: NORMAL\n",
            "Prediction for NORMAL\\IM-0011-0001.jpeg: NORMAL\n",
            "Prediction for NORMAL\\IM-0013-0001.jpeg: NORMAL\n",
            "Prediction for NORMAL\\IM-0015-0001.jpeg: PNEUMONIA\n",
            "Prediction for NORMAL\\IM-0016-0001.jpeg: NORMAL\n",
            "Prediction for NORMAL\\IM-0017-0001.jpeg: NORMAL\n",
            "Prediction for NORMAL\\IM-0019-0001.jpeg: NORMAL\n",
            "Prediction for NORMAL\\IM-0021-0001.jpeg: PNEUMONIA\n",
            "Prediction for NORMAL\\IM-0022-0001.jpeg: PNEUMONIA\n",
            "Prediction for NORMAL\\IM-0023-0001.jpeg: NORMAL\n",
            "Prediction for NORMAL\\IM-0025-0001.jpeg: NORMAL\n",
            "Prediction for NORMAL\\IM-0027-0001.jpeg: NORMAL\n",
            "Prediction for NORMAL\\IM-0028-0001.jpeg: PNEUMONIA\n",
            "Prediction for NORMAL\\IM-0029-0001.jpeg: NORMAL\n",
            "Prediction for NORMAL\\IM-0030-0001.jpeg: NORMAL\n",
            "Prediction for NORMAL\\IM-0031-0001.jpeg: NORMAL\n",
            "Prediction for NORMAL\\IM-0033-0001-0001.jpeg: PNEUMONIA\n",
            "Prediction for NORMAL\\IM-0033-0001-0002.jpeg: NORMAL\n",
            "Prediction for NORMAL\\IM-0033-0001.jpeg: NORMAL\n",
            "Prediction for NORMAL\\IM-0035-0001.jpeg: NORMAL\n",
            "Prediction for NORMAL\\IM-0036-0001.jpeg: PNEUMONIA\n",
            "Prediction for NORMAL\\IM-0037-0001.jpeg: NORMAL\n",
            "Prediction for NORMAL\\IM-0039-0001.jpeg: NORMAL\n",
            "Prediction for NORMAL\\IM-0041-0001.jpeg: NORMAL\n",
            "Prediction for NORMAL\\IM-0043-0001.jpeg: NORMAL\n",
            "Prediction for NORMAL\\IM-0045-0001.jpeg: NORMAL\n",
            "Prediction for NORMAL\\IM-0046-0001.jpeg: NORMAL\n",
            "Prediction for NORMAL\\IM-0049-0001.jpeg: NORMAL\n",
            "Prediction for NORMAL\\IM-0050-0001.jpeg: NORMAL\n",
            "Prediction for NORMAL\\IM-0059-0001.jpeg: NORMAL\n",
            "Prediction for NORMAL\\IM-0061-0001.jpeg: NORMAL\n",
            "Prediction for NORMAL\\IM-0063-0001.jpeg: NORMAL\n",
            "Prediction for NORMAL\\IM-0065-0001.jpeg: NORMAL\n",
            "Prediction for NORMAL\\IM-0067-0001.jpeg: NORMAL\n",
            "Prediction for NORMAL\\IM-0069-0001.jpeg: NORMAL\n",
            "Prediction for NORMAL\\IM-0070-0001.jpeg: NORMAL\n",
            "Prediction for NORMAL\\IM-0071-0001.jpeg: NORMAL\n",
            "Prediction for NORMAL\\IM-0073-0001.jpeg: NORMAL\n",
            "Prediction for NORMAL\\IM-0075-0001.jpeg: NORMAL\n",
            "Prediction for NORMAL\\IM-0077-0001.jpeg: NORMAL\n",
            "Prediction for NORMAL\\IM-0079-0001.jpeg: NORMAL\n",
            "Prediction for NORMAL\\IM-0081-0001.jpeg: NORMAL\n",
            "Prediction for NORMAL\\IM-0083-0001.jpeg: NORMAL\n",
            "Prediction for NORMAL\\IM-0084-0001.jpeg: NORMAL\n",
            "Prediction for NORMAL\\IM-0085-0001.jpeg: NORMAL\n",
            "Prediction for NORMAL\\IM-0086-0001.jpeg: NORMAL\n",
            "Prediction for NORMAL\\IM-0087-0001.jpeg: NORMAL\n",
            "Prediction for NORMAL\\IM-0089-0001.jpeg: NORMAL\n",
            "Prediction for NORMAL\\IM-0091-0001.jpeg: NORMAL\n",
            "Prediction for NORMAL\\IM-0093-0001.jpeg: NORMAL\n",
            "Prediction for NORMAL\\IM-0095-0001.jpeg: NORMAL\n",
            "Prediction for NORMAL\\IM-0097-0001.jpeg: NORMAL\n",
            "Prediction for NORMAL\\IM-0099-0001.jpeg: NORMAL\n",
            "Prediction for NORMAL\\IM-0101-0001.jpeg: NORMAL\n",
            "Prediction for NORMAL\\IM-0102-0001.jpeg: NORMAL\n",
            "Prediction for NORMAL\\IM-0103-0001.jpeg: NORMAL\n",
            "Prediction for NORMAL\\IM-0105-0001.jpeg: NORMAL\n",
            "Prediction for NORMAL\\IM-0107-0001.jpeg: NORMAL\n",
            "Prediction for NORMAL\\IM-0109-0001.jpeg: PNEUMONIA\n",
            "Prediction for NORMAL\\IM-0110-0001.jpeg: PNEUMONIA\n",
            "Prediction for NORMAL\\IM-0111-0001.jpeg: NORMAL\n",
            "Prediction for NORMAL\\NORMAL2-IM-0007-0001.jpeg: PNEUMONIA\n",
            "Prediction for NORMAL\\NORMAL2-IM-0012-0001.jpeg: NORMAL\n",
            "Prediction for NORMAL\\NORMAL2-IM-0013-0001.jpeg: NORMAL\n",
            "Prediction for NORMAL\\NORMAL2-IM-0019-0001.jpeg: PNEUMONIA\n",
            "Prediction for NORMAL\\NORMAL2-IM-0023-0001.jpeg: NORMAL\n",
            "Prediction for NORMAL\\NORMAL2-IM-0027-0001.jpeg: NORMAL\n",
            "Prediction for NORMAL\\NORMAL2-IM-0028-0001.jpeg: NORMAL\n",
            "Prediction for NORMAL\\NORMAL2-IM-0029-0001.jpeg: NORMAL\n",
            "Prediction for NORMAL\\NORMAL2-IM-0030-0001.jpeg: PNEUMONIA\n",
            "Prediction for NORMAL\\NORMAL2-IM-0033-0001.jpeg: NORMAL\n",
            "Prediction for NORMAL\\NORMAL2-IM-0035-0001.jpeg: NORMAL\n",
            "Prediction for NORMAL\\NORMAL2-IM-0041-0001.jpeg: PNEUMONIA\n",
            "Prediction for NORMAL\\NORMAL2-IM-0045-0001.jpeg: NORMAL\n",
            "Prediction for NORMAL\\NORMAL2-IM-0051-0001.jpeg: NORMAL\n",
            "Prediction for NORMAL\\NORMAL2-IM-0052-0001.jpeg: NORMAL\n",
            "Prediction for NORMAL\\NORMAL2-IM-0058-0001.jpeg: NORMAL\n",
            "Prediction for NORMAL\\NORMAL2-IM-0059-0001.jpeg: PNEUMONIA\n",
            "Prediction for NORMAL\\NORMAL2-IM-0060-0001.jpeg: NORMAL\n",
            "Prediction for NORMAL\\NORMAL2-IM-0066-0001.jpeg: PNEUMONIA\n",
            "Prediction for NORMAL\\NORMAL2-IM-0072-0001.jpeg: PNEUMONIA\n",
            "Prediction for NORMAL\\NORMAL2-IM-0073-0001.jpeg: NORMAL\n",
            "Prediction for NORMAL\\NORMAL2-IM-0079-0001.jpeg: NORMAL\n",
            "Prediction for NORMAL\\NORMAL2-IM-0081-0001.jpeg: NORMAL\n",
            "Prediction for NORMAL\\NORMAL2-IM-0086-0001.jpeg: NORMAL\n",
            "Prediction for NORMAL\\NORMAL2-IM-0092-0001.jpeg: PNEUMONIA\n",
            "Prediction for NORMAL\\NORMAL2-IM-0095-0001.jpeg: PNEUMONIA\n",
            "Prediction for NORMAL\\NORMAL2-IM-0096-0001.jpeg: PNEUMONIA\n",
            "Prediction for NORMAL\\NORMAL2-IM-0098-0001.jpeg: NORMAL\n",
            "Prediction for NORMAL\\NORMAL2-IM-0102-0001.jpeg: NORMAL\n",
            "Prediction for NORMAL\\NORMAL2-IM-0105-0001.jpeg: NORMAL\n",
            "Prediction for NORMAL\\NORMAL2-IM-0107-0001.jpeg: PNEUMONIA\n",
            "Prediction for NORMAL\\NORMAL2-IM-0110-0001.jpeg: NORMAL\n",
            "Prediction for NORMAL\\NORMAL2-IM-0111-0001.jpeg: PNEUMONIA\n",
            "Prediction for NORMAL\\NORMAL2-IM-0112-0001.jpeg: NORMAL\n",
            "Prediction for NORMAL\\NORMAL2-IM-0117-0001.jpeg: PNEUMONIA\n",
            "Prediction for NORMAL\\NORMAL2-IM-0120-0001.jpeg: PNEUMONIA\n",
            "Prediction for NORMAL\\NORMAL2-IM-0123-0001.jpeg: PNEUMONIA\n",
            "Prediction for NORMAL\\NORMAL2-IM-0129-0001.jpeg: NORMAL\n",
            "Prediction for NORMAL\\NORMAL2-IM-0130-0001.jpeg: NORMAL\n",
            "Prediction for NORMAL\\NORMAL2-IM-0131-0001.jpeg: NORMAL\n",
            "Prediction for NORMAL\\NORMAL2-IM-0132-0001.jpeg: NORMAL\n",
            "Prediction for NORMAL\\NORMAL2-IM-0135-0001.jpeg: PNEUMONIA\n",
            "Prediction for NORMAL\\NORMAL2-IM-0139-0001.jpeg: NORMAL\n",
            "Prediction for NORMAL\\NORMAL2-IM-0141-0001.jpeg: NORMAL\n",
            "Prediction for NORMAL\\NORMAL2-IM-0145-0001.jpeg: PNEUMONIA\n",
            "Prediction for NORMAL\\NORMAL2-IM-0146-0001.jpeg: NORMAL\n",
            "Prediction for NORMAL\\NORMAL2-IM-0150-0001.jpeg: PNEUMONIA\n",
            "Prediction for NORMAL\\NORMAL2-IM-0171-0001.jpeg: NORMAL\n",
            "Prediction for NORMAL\\NORMAL2-IM-0173-0001-0001.jpeg: PNEUMONIA\n",
            "Prediction for NORMAL\\NORMAL2-IM-0173-0001-0002.jpeg: PNEUMONIA\n",
            "Prediction for NORMAL\\NORMAL2-IM-0195-0001.jpeg: PNEUMONIA\n",
            "Prediction for NORMAL\\NORMAL2-IM-0196-0001.jpeg: PNEUMONIA\n",
            "Prediction for NORMAL\\NORMAL2-IM-0198-0001.jpeg: PNEUMONIA\n",
            "Prediction for NORMAL\\NORMAL2-IM-0199-0001.jpeg: PNEUMONIA\n",
            "Prediction for NORMAL\\NORMAL2-IM-0201-0001.jpeg: PNEUMONIA\n",
            "Prediction for NORMAL\\NORMAL2-IM-0206-0001.jpeg: PNEUMONIA\n",
            "Prediction for NORMAL\\NORMAL2-IM-0207-0001.jpeg: NORMAL\n",
            "Prediction for NORMAL\\NORMAL2-IM-0210-0001.jpeg: PNEUMONIA\n",
            "Prediction for NORMAL\\NORMAL2-IM-0213-0001.jpeg: PNEUMONIA\n",
            "Prediction for NORMAL\\NORMAL2-IM-0217-0001.jpeg: PNEUMONIA\n",
            "Prediction for NORMAL\\NORMAL2-IM-0219-0001.jpeg: PNEUMONIA\n",
            "Prediction for NORMAL\\NORMAL2-IM-0221-0001.jpeg: PNEUMONIA\n",
            "Prediction for NORMAL\\NORMAL2-IM-0222-0001.jpeg: PNEUMONIA\n",
            "Prediction for NORMAL\\NORMAL2-IM-0229-0001.jpeg: PNEUMONIA\n",
            "Prediction for NORMAL\\NORMAL2-IM-0232-0001.jpeg: PNEUMONIA\n",
            "Prediction for NORMAL\\NORMAL2-IM-0233-0001.jpeg: PNEUMONIA\n",
            "Prediction for NORMAL\\NORMAL2-IM-0237-0001.jpeg: PNEUMONIA\n",
            "Prediction for NORMAL\\NORMAL2-IM-0238-0001.jpeg: PNEUMONIA\n",
            "Prediction for NORMAL\\NORMAL2-IM-0241-0001.jpeg: PNEUMONIA\n",
            "Prediction for NORMAL\\NORMAL2-IM-0246-0001-0001.jpeg: NORMAL\n",
            "Prediction for NORMAL\\NORMAL2-IM-0246-0001-0002.jpeg: NORMAL\n",
            "Prediction for NORMAL\\NORMAL2-IM-0246-0001.jpeg: PNEUMONIA\n",
            "Prediction for NORMAL\\NORMAL2-IM-0249-0001.jpeg: NORMAL\n",
            "Prediction for NORMAL\\NORMAL2-IM-0251-0001.jpeg: PNEUMONIA\n",
            "Prediction for NORMAL\\NORMAL2-IM-0252-0001.jpeg: PNEUMONIA\n",
            "Prediction for NORMAL\\NORMAL2-IM-0256-0001.jpeg: PNEUMONIA\n",
            "Prediction for NORMAL\\NORMAL2-IM-0259-0001.jpeg: PNEUMONIA\n",
            "Prediction for NORMAL\\NORMAL2-IM-0267-0001.jpeg: PNEUMONIA\n",
            "Prediction for NORMAL\\NORMAL2-IM-0271-0001.jpeg: PNEUMONIA\n",
            "Prediction for NORMAL\\NORMAL2-IM-0272-0001.jpeg: NORMAL\n",
            "Prediction for NORMAL\\NORMAL2-IM-0273-0001.jpeg: NORMAL\n",
            "Prediction for NORMAL\\NORMAL2-IM-0274-0001.jpeg: NORMAL\n",
            "Prediction for NORMAL\\NORMAL2-IM-0275-0001.jpeg: NORMAL\n",
            "Prediction for NORMAL\\NORMAL2-IM-0276-0001.jpeg: NORMAL\n",
            "Prediction for NORMAL\\NORMAL2-IM-0277-0001.jpeg: NORMAL\n",
            "Prediction for NORMAL\\NORMAL2-IM-0278-0001.jpeg: NORMAL\n",
            "Prediction for NORMAL\\NORMAL2-IM-0279-0001.jpeg: NORMAL\n",
            "Prediction for NORMAL\\NORMAL2-IM-0280-0001.jpeg: NORMAL\n",
            "Prediction for NORMAL\\NORMAL2-IM-0281-0001.jpeg: NORMAL\n",
            "Prediction for NORMAL\\NORMAL2-IM-0282-0001.jpeg: NORMAL\n",
            "Prediction for NORMAL\\NORMAL2-IM-0283-0001.jpeg: PNEUMONIA\n",
            "Prediction for NORMAL\\NORMAL2-IM-0285-0001.jpeg: PNEUMONIA\n",
            "Prediction for NORMAL\\NORMAL2-IM-0286-0001.jpeg: NORMAL\n",
            "Prediction for NORMAL\\NORMAL2-IM-0287-0001.jpeg: NORMAL\n",
            "Prediction for NORMAL\\NORMAL2-IM-0288-0001.jpeg: NORMAL\n",
            "Prediction for NORMAL\\NORMAL2-IM-0289-0001.jpeg: NORMAL\n",
            "Prediction for NORMAL\\NORMAL2-IM-0290-0001.jpeg: NORMAL\n",
            "Prediction for NORMAL\\NORMAL2-IM-0292-0001.jpeg: PNEUMONIA\n",
            "Prediction for NORMAL\\NORMAL2-IM-0294-0001.jpeg: PNEUMONIA\n",
            "Prediction for NORMAL\\NORMAL2-IM-0297-0001.jpeg: NORMAL\n",
            "Prediction for NORMAL\\NORMAL2-IM-0300-0001.jpeg: NORMAL\n",
            "Prediction for NORMAL\\NORMAL2-IM-0301-0001.jpeg: NORMAL\n",
            "Prediction for NORMAL\\NORMAL2-IM-0302-0001.jpeg: NORMAL\n",
            "Prediction for NORMAL\\NORMAL2-IM-0303-0001.jpeg: NORMAL\n",
            "Prediction for NORMAL\\NORMAL2-IM-0304-0001.jpeg: PNEUMONIA\n",
            "Prediction for NORMAL\\NORMAL2-IM-0305-0001.jpeg: NORMAL\n",
            "Prediction for NORMAL\\NORMAL2-IM-0307-0001.jpeg: NORMAL\n",
            "Prediction for NORMAL\\NORMAL2-IM-0309-0001.jpeg: NORMAL\n",
            "Prediction for NORMAL\\NORMAL2-IM-0310-0001.jpeg: NORMAL\n",
            "Prediction for NORMAL\\NORMAL2-IM-0311-0001.jpeg: NORMAL\n",
            "Prediction for NORMAL\\NORMAL2-IM-0312-0001.jpeg: NORMAL\n",
            "Prediction for NORMAL\\NORMAL2-IM-0313-0001.jpeg: NORMAL\n",
            "Prediction for NORMAL\\NORMAL2-IM-0315-0001.jpeg: PNEUMONIA\n",
            "Prediction for NORMAL\\NORMAL2-IM-0316-0001.jpeg: PNEUMONIA\n",
            "Prediction for NORMAL\\NORMAL2-IM-0317-0001.jpeg: NORMAL\n",
            "Prediction for NORMAL\\NORMAL2-IM-0319-0001.jpeg: NORMAL\n",
            "Prediction for NORMAL\\NORMAL2-IM-0321-0001.jpeg: NORMAL\n",
            "Prediction for NORMAL\\NORMAL2-IM-0322-0001.jpeg: NORMAL\n",
            "Prediction for NORMAL\\NORMAL2-IM-0323-0001.jpeg: NORMAL\n",
            "Prediction for NORMAL\\NORMAL2-IM-0325-0001.jpeg: PNEUMONIA\n",
            "Prediction for NORMAL\\NORMAL2-IM-0326-0001.jpeg: NORMAL\n",
            "Prediction for NORMAL\\NORMAL2-IM-0327-0001.jpeg: PNEUMONIA\n",
            "Prediction for NORMAL\\NORMAL2-IM-0328-0001.jpeg: NORMAL\n",
            "Prediction for NORMAL\\NORMAL2-IM-0329-0001.jpeg: NORMAL\n",
            "Prediction for NORMAL\\NORMAL2-IM-0330-0001.jpeg: PNEUMONIA\n",
            "Prediction for NORMAL\\NORMAL2-IM-0331-0001.jpeg: NORMAL\n",
            "Prediction for NORMAL\\NORMAL2-IM-0332-0001.jpeg: NORMAL\n",
            "Prediction for NORMAL\\NORMAL2-IM-0333-0001.jpeg: NORMAL\n",
            "Prediction for NORMAL\\NORMAL2-IM-0335-0001.jpeg: NORMAL\n",
            "Prediction for NORMAL\\NORMAL2-IM-0336-0001.jpeg: PNEUMONIA\n",
            "Prediction for NORMAL\\NORMAL2-IM-0337-0001.jpeg: NORMAL\n",
            "Prediction for NORMAL\\NORMAL2-IM-0338-0001.jpeg: NORMAL\n",
            "Prediction for NORMAL\\NORMAL2-IM-0339-0001.jpeg: NORMAL\n",
            "Prediction for NORMAL\\NORMAL2-IM-0340-0001.jpeg: NORMAL\n",
            "Prediction for NORMAL\\NORMAL2-IM-0341-0001.jpeg: NORMAL\n",
            "Prediction for NORMAL\\NORMAL2-IM-0343-0001.jpeg: NORMAL\n",
            "Prediction for NORMAL\\NORMAL2-IM-0345-0001.jpeg: NORMAL\n",
            "Prediction for NORMAL\\NORMAL2-IM-0346-0001.jpeg: NORMAL\n",
            "Prediction for NORMAL\\NORMAL2-IM-0347-0001.jpeg: NORMAL\n",
            "Prediction for NORMAL\\NORMAL2-IM-0348-0001.jpeg: NORMAL\n",
            "Prediction for NORMAL\\NORMAL2-IM-0349-0001.jpeg: NORMAL\n",
            "Prediction for NORMAL\\NORMAL2-IM-0350-0001.jpeg: NORMAL\n",
            "Prediction for NORMAL\\NORMAL2-IM-0351-0001.jpeg: NORMAL\n",
            "Prediction for NORMAL\\NORMAL2-IM-0352-0001.jpeg: NORMAL\n",
            "Prediction for NORMAL\\NORMAL2-IM-0353-0001.jpeg: NORMAL\n",
            "Prediction for NORMAL\\NORMAL2-IM-0354-0001.jpeg: NORMAL\n",
            "Prediction for NORMAL\\NORMAL2-IM-0357-0001.jpeg: NORMAL\n",
            "Prediction for NORMAL\\NORMAL2-IM-0359-0001.jpeg: NORMAL\n",
            "Prediction for NORMAL\\NORMAL2-IM-0360-0001.jpeg: PNEUMONIA\n",
            "Prediction for NORMAL\\NORMAL2-IM-0361-0001.jpeg: NORMAL\n",
            "Prediction for NORMAL\\NORMAL2-IM-0362-0001.jpeg: NORMAL\n",
            "Prediction for NORMAL\\NORMAL2-IM-0364-0001.jpeg: PNEUMONIA\n",
            "Prediction for NORMAL\\NORMAL2-IM-0366-0001.jpeg: NORMAL\n",
            "Prediction for NORMAL\\NORMAL2-IM-0368-0001.jpeg: PNEUMONIA\n",
            "Prediction for NORMAL\\NORMAL2-IM-0369-0001.jpeg: NORMAL\n",
            "Prediction for NORMAL\\NORMAL2-IM-0370-0001.jpeg: NORMAL\n",
            "Prediction for NORMAL\\NORMAL2-IM-0372-0001.jpeg: NORMAL\n",
            "Prediction for NORMAL\\NORMAL2-IM-0373-0001.jpeg: PNEUMONIA\n",
            "Prediction for NORMAL\\NORMAL2-IM-0374-0001-0001.jpeg: NORMAL\n",
            "Prediction for NORMAL\\NORMAL2-IM-0374-0001-0002.jpeg: NORMAL\n",
            "Prediction for NORMAL\\NORMAL2-IM-0374-0001.jpeg: NORMAL\n",
            "Prediction for NORMAL\\NORMAL2-IM-0376-0001.jpeg: PNEUMONIA\n",
            "Prediction for NORMAL\\NORMAL2-IM-0378-0001.jpeg: NORMAL\n",
            "Prediction for NORMAL\\NORMAL2-IM-0380-0001.jpeg: NORMAL\n",
            "Prediction for NORMAL\\NORMAL2-IM-0381-0001.jpeg: NORMAL\n",
            "Prediction for PNEUMONIA\\person100_bacteria_475.jpeg: PNEUMONIA\n",
            "Prediction for PNEUMONIA\\person100_bacteria_477.jpeg: PNEUMONIA\n",
            "Prediction for PNEUMONIA\\person100_bacteria_478.jpeg: PNEUMONIA\n",
            "Prediction for PNEUMONIA\\person100_bacteria_479.jpeg: PNEUMONIA\n",
            "Prediction for PNEUMONIA\\person100_bacteria_480.jpeg: PNEUMONIA\n",
            "Prediction for PNEUMONIA\\person100_bacteria_481.jpeg: PNEUMONIA\n",
            "Prediction for PNEUMONIA\\person100_bacteria_482.jpeg: PNEUMONIA\n",
            "Prediction for PNEUMONIA\\person101_bacteria_483.jpeg: PNEUMONIA\n",
            "Prediction for PNEUMONIA\\person101_bacteria_484.jpeg: PNEUMONIA\n",
            "Prediction for PNEUMONIA\\person101_bacteria_485.jpeg: PNEUMONIA\n",
            "Prediction for PNEUMONIA\\person101_bacteria_486.jpeg: PNEUMONIA\n",
            "Prediction for PNEUMONIA\\person102_bacteria_487.jpeg: PNEUMONIA\n",
            "Prediction for PNEUMONIA\\person103_bacteria_488.jpeg: PNEUMONIA\n",
            "Prediction for PNEUMONIA\\person103_bacteria_489.jpeg: PNEUMONIA\n",
            "Prediction for PNEUMONIA\\person103_bacteria_490.jpeg: PNEUMONIA\n",
            "Prediction for PNEUMONIA\\person104_bacteria_491.jpeg: PNEUMONIA\n",
            "Prediction for PNEUMONIA\\person104_bacteria_492.jpeg: PNEUMONIA\n",
            "Prediction for PNEUMONIA\\person108_bacteria_504.jpeg: PNEUMONIA\n",
            "Prediction for PNEUMONIA\\person108_bacteria_506.jpeg: PNEUMONIA\n",
            "Prediction for PNEUMONIA\\person108_bacteria_507.jpeg: PNEUMONIA\n",
            "Prediction for PNEUMONIA\\person108_bacteria_511.jpeg: PNEUMONIA\n",
            "Prediction for PNEUMONIA\\person109_bacteria_512.jpeg: PNEUMONIA\n",
            "Prediction for PNEUMONIA\\person109_bacteria_513.jpeg: PNEUMONIA\n",
            "Prediction for PNEUMONIA\\person109_bacteria_517.jpeg: PNEUMONIA\n",
            "Prediction for PNEUMONIA\\person109_bacteria_519.jpeg: PNEUMONIA\n",
            "Prediction for PNEUMONIA\\person109_bacteria_522.jpeg: PNEUMONIA\n",
            "Prediction for PNEUMONIA\\person109_bacteria_523.jpeg: PNEUMONIA\n",
            "Prediction for PNEUMONIA\\person109_bacteria_526.jpeg: PNEUMONIA\n",
            "Prediction for PNEUMONIA\\person109_bacteria_527.jpeg: PNEUMONIA\n",
            "Prediction for PNEUMONIA\\person109_bacteria_528.jpeg: PNEUMONIA\n",
            "Prediction for PNEUMONIA\\person10_virus_35.jpeg: PNEUMONIA\n",
            "Prediction for PNEUMONIA\\person110_bacteria_531.jpeg: PNEUMONIA\n",
            "Prediction for PNEUMONIA\\person111_bacteria_533.jpeg: PNEUMONIA\n",
            "Prediction for PNEUMONIA\\person111_bacteria_534.jpeg: PNEUMONIA\n",
            "Prediction for PNEUMONIA\\person111_bacteria_535.jpeg: PNEUMONIA\n",
            "Prediction for PNEUMONIA\\person111_bacteria_536.jpeg: PNEUMONIA\n",
            "Prediction for PNEUMONIA\\person111_bacteria_537.jpeg: PNEUMONIA\n",
            "Prediction for PNEUMONIA\\person112_bacteria_538.jpeg: PNEUMONIA\n",
            "Prediction for PNEUMONIA\\person112_bacteria_539.jpeg: PNEUMONIA\n",
            "Prediction for PNEUMONIA\\person113_bacteria_540.jpeg: PNEUMONIA\n",
            "Prediction for PNEUMONIA\\person113_bacteria_541.jpeg: PNEUMONIA\n",
            "Prediction for PNEUMONIA\\person113_bacteria_542.jpeg: PNEUMONIA\n",
            "Prediction for PNEUMONIA\\person113_bacteria_543.jpeg: PNEUMONIA\n",
            "Prediction for PNEUMONIA\\person114_bacteria_544.jpeg: PNEUMONIA\n",
            "Prediction for PNEUMONIA\\person114_bacteria_545.jpeg: PNEUMONIA\n",
            "Prediction for PNEUMONIA\\person114_bacteria_546.jpeg: PNEUMONIA\n",
            "Prediction for PNEUMONIA\\person117_bacteria_553.jpeg: PNEUMONIA\n",
            "Prediction for PNEUMONIA\\person117_bacteria_556.jpeg: PNEUMONIA\n",
            "Prediction for PNEUMONIA\\person117_bacteria_557.jpeg: PNEUMONIA\n",
            "Prediction for PNEUMONIA\\person118_bacteria_559.jpeg: PNEUMONIA\n",
            "Prediction for PNEUMONIA\\person118_bacteria_560.jpeg: PNEUMONIA\n",
            "Prediction for PNEUMONIA\\person119_bacteria_565.jpeg: PNEUMONIA\n",
            "Prediction for PNEUMONIA\\person119_bacteria_566.jpeg: PNEUMONIA\n",
            "Prediction for PNEUMONIA\\person119_bacteria_567.jpeg: PNEUMONIA\n",
            "Prediction for PNEUMONIA\\person119_bacteria_568.jpeg: PNEUMONIA\n",
            "Prediction for PNEUMONIA\\person11_virus_38.jpeg: PNEUMONIA\n",
            "Prediction for PNEUMONIA\\person120_bacteria_570.jpeg: PNEUMONIA\n",
            "Prediction for PNEUMONIA\\person120_bacteria_571.jpeg: PNEUMONIA\n",
            "Prediction for PNEUMONIA\\person120_bacteria_572.jpeg: PNEUMONIA\n",
            "Prediction for PNEUMONIA\\person120_bacteria_573.jpeg: PNEUMONIA\n",
            "Prediction for PNEUMONIA\\person121_bacteria_575.jpeg: PNEUMONIA\n",
            "Prediction for PNEUMONIA\\person121_bacteria_576.jpeg: PNEUMONIA\n",
            "Prediction for PNEUMONIA\\person121_bacteria_578.jpeg: PNEUMONIA\n",
            "Prediction for PNEUMONIA\\person121_bacteria_579.jpeg: PNEUMONIA\n",
            "Prediction for PNEUMONIA\\person121_bacteria_580.jpeg: PNEUMONIA\n",
            "Prediction for PNEUMONIA\\person122_bacteria_581.jpeg: PNEUMONIA\n",
            "Prediction for PNEUMONIA\\person122_bacteria_582.jpeg: PNEUMONIA\n",
            "Prediction for PNEUMONIA\\person122_bacteria_583.jpeg: PNEUMONIA\n",
            "Prediction for PNEUMONIA\\person122_bacteria_584.jpeg: PNEUMONIA\n",
            "Prediction for PNEUMONIA\\person122_bacteria_585.jpeg: PNEUMONIA\n",
            "Prediction for PNEUMONIA\\person122_bacteria_586.jpeg: PNEUMONIA\n",
            "Prediction for PNEUMONIA\\person123_bacteria_587.jpeg: PNEUMONIA\n",
            "Prediction for PNEUMONIA\\person124_bacteria_589.jpeg: PNEUMONIA\n",
            "Prediction for PNEUMONIA\\person124_bacteria_590.jpeg: PNEUMONIA\n",
            "Prediction for PNEUMONIA\\person124_bacteria_591.jpeg: PNEUMONIA\n",
            "Prediction for PNEUMONIA\\person124_bacteria_592.jpeg: PNEUMONIA\n",
            "Prediction for PNEUMONIA\\person125_bacteria_594.jpeg: PNEUMONIA\n",
            "Prediction for PNEUMONIA\\person125_bacteria_595.jpeg: PNEUMONIA\n",
            "Prediction for PNEUMONIA\\person126_bacteria_598.jpeg: PNEUMONIA\n",
            "Prediction for PNEUMONIA\\person126_bacteria_599.jpeg: PNEUMONIA\n",
            "Prediction for PNEUMONIA\\person126_bacteria_600.jpeg: PNEUMONIA\n",
            "Prediction for PNEUMONIA\\person127_bacteria_602.jpeg: PNEUMONIA\n",
            "Prediction for PNEUMONIA\\person127_bacteria_603.jpeg: PNEUMONIA\n",
            "Prediction for PNEUMONIA\\person127_bacteria_604.jpeg: PNEUMONIA\n",
            "Prediction for PNEUMONIA\\person128_bacteria_605.jpeg: PNEUMONIA\n",
            "Prediction for PNEUMONIA\\person128_bacteria_606.jpeg: PNEUMONIA\n",
            "Prediction for PNEUMONIA\\person128_bacteria_607.jpeg: PNEUMONIA\n",
            "Prediction for PNEUMONIA\\person128_bacteria_608.jpeg: PNEUMONIA\n",
            "Prediction for PNEUMONIA\\person130_bacteria_623.jpeg: PNEUMONIA\n",
            "Prediction for PNEUMONIA\\person130_bacteria_625.jpeg: PNEUMONIA\n",
            "Prediction for PNEUMONIA\\person130_bacteria_626.jpeg: PNEUMONIA\n",
            "Prediction for PNEUMONIA\\person130_bacteria_627.jpeg: PNEUMONIA\n",
            "Prediction for PNEUMONIA\\person130_bacteria_628.jpeg: PNEUMONIA\n",
            "Prediction for PNEUMONIA\\person131_bacteria_629.jpeg: PNEUMONIA\n",
            "Prediction for PNEUMONIA\\person132_bacteria_632.jpeg: PNEUMONIA\n",
            "Prediction for PNEUMONIA\\person133_bacteria_633.jpeg: PNEUMONIA\n",
            "Prediction for PNEUMONIA\\person133_bacteria_634.jpeg: PNEUMONIA\n",
            "Prediction for PNEUMONIA\\person133_bacteria_635.jpeg: PNEUMONIA\n",
            "Prediction for PNEUMONIA\\person133_bacteria_637.jpeg: PNEUMONIA\n",
            "Prediction for PNEUMONIA\\person133_bacteria_638.jpeg: PNEUMONIA\n",
            "Prediction for PNEUMONIA\\person134_bacteria_640.jpeg: PNEUMONIA\n",
            "Prediction for PNEUMONIA\\person134_bacteria_641.jpeg: PNEUMONIA\n",
            "Prediction for PNEUMONIA\\person134_bacteria_642.jpeg: PNEUMONIA\n",
            "Prediction for PNEUMONIA\\person134_bacteria_643.jpeg: PNEUMONIA\n",
            "Prediction for PNEUMONIA\\person134_bacteria_644.jpeg: PNEUMONIA\n",
            "Prediction for PNEUMONIA\\person135_bacteria_646.jpeg: PNEUMONIA\n",
            "Prediction for PNEUMONIA\\person135_bacteria_647.jpeg: PNEUMONIA\n",
            "Prediction for PNEUMONIA\\person136_bacteria_648.jpeg: PNEUMONIA\n",
            "Prediction for PNEUMONIA\\person136_bacteria_649.jpeg: PNEUMONIA\n",
            "Prediction for PNEUMONIA\\person136_bacteria_650.jpeg: PNEUMONIA\n",
            "Prediction for PNEUMONIA\\person136_bacteria_652.jpeg: PNEUMONIA\n",
            "Prediction for PNEUMONIA\\person136_bacteria_654.jpeg: NORMAL\n",
            "Prediction for PNEUMONIA\\person137_bacteria_655.jpeg: PNEUMONIA\n",
            "Prediction for PNEUMONIA\\person138_bacteria_657.jpeg: PNEUMONIA\n",
            "Prediction for PNEUMONIA\\person138_bacteria_658.jpeg: PNEUMONIA\n",
            "Prediction for PNEUMONIA\\person138_bacteria_659.jpeg: PNEUMONIA\n",
            "Prediction for PNEUMONIA\\person139_bacteria_661.jpeg: PNEUMONIA\n",
            "Prediction for PNEUMONIA\\person139_bacteria_662.jpeg: PNEUMONIA\n",
            "Prediction for PNEUMONIA\\person139_bacteria_663.jpeg: PNEUMONIA\n",
            "Prediction for PNEUMONIA\\person139_bacteria_664.jpeg: PNEUMONIA\n",
            "Prediction for PNEUMONIA\\person139_bacteria_665.jpeg: PNEUMONIA\n",
            "Prediction for PNEUMONIA\\person139_bacteria_666.jpeg: PNEUMONIA\n",
            "Prediction for PNEUMONIA\\person140_bacteria_667.jpeg: PNEUMONIA\n",
            "Prediction for PNEUMONIA\\person140_bacteria_668.jpeg: PNEUMONIA\n",
            "Prediction for PNEUMONIA\\person141_bacteria_670.jpeg: PNEUMONIA\n",
            "Prediction for PNEUMONIA\\person141_bacteria_676.jpeg: PNEUMONIA\n",
            "Prediction for PNEUMONIA\\person141_bacteria_677.jpeg: PNEUMONIA\n",
            "Prediction for PNEUMONIA\\person141_bacteria_678.jpeg: PNEUMONIA\n",
            "Prediction for PNEUMONIA\\person141_bacteria_681.jpeg: PNEUMONIA\n",
            "Prediction for PNEUMONIA\\person142_bacteria_682.jpeg: PNEUMONIA\n",
            "Prediction for PNEUMONIA\\person142_bacteria_683.jpeg: PNEUMONIA\n",
            "Prediction for PNEUMONIA\\person142_bacteria_684.jpeg: PNEUMONIA\n",
            "Prediction for PNEUMONIA\\person143_bacteria_687.jpeg: PNEUMONIA\n",
            "Prediction for PNEUMONIA\\person143_bacteria_688.jpeg: PNEUMONIA\n",
            "Prediction for PNEUMONIA\\person143_bacteria_689.jpeg: PNEUMONIA\n",
            "Prediction for PNEUMONIA\\person144_bacteria_690.jpeg: PNEUMONIA\n",
            "Prediction for PNEUMONIA\\person145_bacteria_696.jpeg: PNEUMONIA\n",
            "Prediction for PNEUMONIA\\person146_bacteria_700.jpeg: PNEUMONIA\n",
            "Prediction for PNEUMONIA\\person146_bacteria_703.jpeg: PNEUMONIA\n",
            "Prediction for PNEUMONIA\\person146_bacteria_704.jpeg: PNEUMONIA\n",
            "Prediction for PNEUMONIA\\person147_bacteria_705.jpeg: PNEUMONIA\n",
            "Prediction for PNEUMONIA\\person147_bacteria_706.jpeg: PNEUMONIA\n",
            "Prediction for PNEUMONIA\\person147_bacteria_707.jpeg: PNEUMONIA\n",
            "Prediction for PNEUMONIA\\person147_bacteria_711.jpeg: PNEUMONIA\n",
            "Prediction for PNEUMONIA\\person149_bacteria_713.jpeg: PNEUMONIA\n",
            "Prediction for PNEUMONIA\\person14_virus_44.jpeg: PNEUMONIA\n",
            "Prediction for PNEUMONIA\\person150_bacteria_715.jpeg: PNEUMONIA\n",
            "Prediction for PNEUMONIA\\person150_bacteria_716.jpeg: PNEUMONIA\n",
            "Prediction for PNEUMONIA\\person150_bacteria_717.jpeg: PNEUMONIA\n",
            "Prediction for PNEUMONIA\\person151_bacteria_718.jpeg: PNEUMONIA\n",
            "Prediction for PNEUMONIA\\person152_bacteria_720.jpeg: PNEUMONIA\n",
            "Prediction for PNEUMONIA\\person152_bacteria_721.jpeg: PNEUMONIA\n",
            "Prediction for PNEUMONIA\\person152_bacteria_722.jpeg: PNEUMONIA\n",
            "Prediction for PNEUMONIA\\person152_bacteria_723.jpeg: PNEUMONIA\n",
            "Prediction for PNEUMONIA\\person152_bacteria_724.jpeg: PNEUMONIA\n",
            "Prediction for PNEUMONIA\\person153_bacteria_725.jpeg: PNEUMONIA\n",
            "Prediction for PNEUMONIA\\person153_bacteria_726.jpeg: NORMAL\n",
            "Prediction for PNEUMONIA\\person154_bacteria_728.jpeg: NORMAL\n",
            "Prediction for PNEUMONIA\\person155_bacteria_729.jpeg: PNEUMONIA\n",
            "Prediction for PNEUMONIA\\person155_bacteria_730.jpeg: PNEUMONIA\n",
            "Prediction for PNEUMONIA\\person155_bacteria_731.jpeg: PNEUMONIA\n",
            "Prediction for PNEUMONIA\\person157_bacteria_735.jpeg: PNEUMONIA\n",
            "Prediction for PNEUMONIA\\person157_bacteria_739.jpeg: PNEUMONIA\n",
            "Prediction for PNEUMONIA\\person157_bacteria_740.jpeg: PNEUMONIA\n",
            "Prediction for PNEUMONIA\\person158_bacteria_742.jpeg: PNEUMONIA\n",
            "Prediction for PNEUMONIA\\person158_bacteria_743.jpeg: PNEUMONIA\n",
            "Prediction for PNEUMONIA\\person158_bacteria_744.jpeg: PNEUMONIA\n",
            "Prediction for PNEUMONIA\\person158_bacteria_745.jpeg: PNEUMONIA\n",
            "Prediction for PNEUMONIA\\person159_bacteria_746.jpeg: PNEUMONIA\n",
            "Prediction for PNEUMONIA\\person159_bacteria_747.jpeg: PNEUMONIA\n",
            "Prediction for PNEUMONIA\\person15_virus_46.jpeg: PNEUMONIA\n",
            "Prediction for PNEUMONIA\\person1608_virus_2786.jpeg: PNEUMONIA\n",
            "Prediction for PNEUMONIA\\person1610_virus_2793.jpeg: PNEUMONIA\n",
            "Prediction for PNEUMONIA\\person1612_virus_2797.jpeg: PNEUMONIA\n",
            "Prediction for PNEUMONIA\\person1612_virus_2798.jpeg: PNEUMONIA\n",
            "Prediction for PNEUMONIA\\person1613_virus_2799.jpeg: PNEUMONIA\n",
            "Prediction for PNEUMONIA\\person1614_virus_2800.jpeg: PNEUMONIA\n",
            "Prediction for PNEUMONIA\\person1615_virus_2801.jpeg: PNEUMONIA\n",
            "Prediction for PNEUMONIA\\person1616_virus_2802.jpeg: PNEUMONIA\n",
            "Prediction for PNEUMONIA\\person1618_virus_2805.jpeg: PNEUMONIA\n",
            "Prediction for PNEUMONIA\\person1619_virus_2806.jpeg: PNEUMONIA\n",
            "Prediction for PNEUMONIA\\person161_bacteria_757.jpeg: PNEUMONIA\n",
            "Prediction for PNEUMONIA\\person161_bacteria_759.jpeg: PNEUMONIA\n",
            "Prediction for PNEUMONIA\\person161_bacteria_762.jpeg: NORMAL\n",
            "Prediction for PNEUMONIA\\person1620_virus_2807.jpeg: PNEUMONIA\n",
            "Prediction for PNEUMONIA\\person1622_virus_2810.jpeg: PNEUMONIA\n",
            "Prediction for PNEUMONIA\\person1623_virus_2813.jpeg: PNEUMONIA\n",
            "Prediction for PNEUMONIA\\person1625_virus_2817.jpeg: PNEUMONIA\n",
            "Prediction for PNEUMONIA\\person1626_virus_2818.jpeg: PNEUMONIA\n",
            "Prediction for PNEUMONIA\\person1627_virus_2819.jpeg: PNEUMONIA\n",
            "Prediction for PNEUMONIA\\person1628_virus_2821.jpeg: PNEUMONIA\n",
            "Prediction for PNEUMONIA\\person1628_virus_2822.jpeg: PNEUMONIA\n",
            "Prediction for PNEUMONIA\\person1629_virus_2823.jpeg: PNEUMONIA\n",
            "Prediction for PNEUMONIA\\person1631_virus_2826.jpeg: PNEUMONIA\n",
            "Prediction for PNEUMONIA\\person1632_virus_2827.jpeg: PNEUMONIA\n",
            "Prediction for PNEUMONIA\\person1633_virus_2829.jpeg: PNEUMONIA\n",
            "Prediction for PNEUMONIA\\person1634_virus_2830.jpeg: PNEUMONIA\n",
            "Prediction for PNEUMONIA\\person1635_virus_2831.jpeg: PNEUMONIA\n",
            "Prediction for PNEUMONIA\\person1637_virus_2834.jpeg: PNEUMONIA\n",
            "Prediction for PNEUMONIA\\person1640_virus_2839.jpeg: PNEUMONIA\n",
            "Prediction for PNEUMONIA\\person1641_virus_2840.jpeg: PNEUMONIA\n",
            "Prediction for PNEUMONIA\\person1642_virus_2842.jpeg: PNEUMONIA\n",
            "Prediction for PNEUMONIA\\person1643_virus_2843.jpeg: PNEUMONIA\n",
            "Prediction for PNEUMONIA\\person1644_virus_2844.jpeg: PNEUMONIA\n",
            "Prediction for PNEUMONIA\\person1645_virus_2845.jpeg: PNEUMONIA\n",
            "Prediction for PNEUMONIA\\person1647_virus_2848.jpeg: PNEUMONIA\n",
            "Prediction for PNEUMONIA\\person1649_virus_2850.jpeg: PNEUMONIA\n",
            "Prediction for PNEUMONIA\\person1650_virus_2852.jpeg: PNEUMONIA\n",
            "Prediction for PNEUMONIA\\person1650_virus_2854.jpeg: PNEUMONIA\n",
            "Prediction for PNEUMONIA\\person1651_virus_2855.jpeg: PNEUMONIA\n",
            "Prediction for PNEUMONIA\\person1653_virus_2858.jpeg: PNEUMONIA\n",
            "Prediction for PNEUMONIA\\person1653_virus_2859.jpeg: PNEUMONIA\n",
            "Prediction for PNEUMONIA\\person1655_virus_2861.jpeg: PNEUMONIA\n",
            "Prediction for PNEUMONIA\\person1656_virus_2862.jpeg: PNEUMONIA\n",
            "Prediction for PNEUMONIA\\person1657_virus_2864.jpeg: PNEUMONIA\n",
            "Prediction for PNEUMONIA\\person1659_virus_2867.jpeg: PNEUMONIA\n",
            "Prediction for PNEUMONIA\\person1660_virus_2869.jpeg: PNEUMONIA\n",
            "Prediction for PNEUMONIA\\person1661_virus_2872.jpeg: PNEUMONIA\n",
            "Prediction for PNEUMONIA\\person1661_virus_2873.jpeg: PNEUMONIA\n",
            "Prediction for PNEUMONIA\\person1662_virus_2875.jpeg: PNEUMONIA\n",
            "Prediction for PNEUMONIA\\person1663_virus_2876.jpeg: PNEUMONIA\n",
            "Prediction for PNEUMONIA\\person1664_virus_2877.jpeg: PNEUMONIA\n",
            "Prediction for PNEUMONIA\\person1665_virus_2878.jpeg: PNEUMONIA\n",
            "Prediction for PNEUMONIA\\person1667_virus_2881.jpeg: PNEUMONIA\n",
            "Prediction for PNEUMONIA\\person1668_virus_2882.jpeg: PNEUMONIA\n",
            "Prediction for PNEUMONIA\\person1669_virus_2884.jpeg: PNEUMONIA\n",
            "Prediction for PNEUMONIA\\person1669_virus_2885.jpeg: PNEUMONIA\n",
            "Prediction for PNEUMONIA\\person1670_virus_2886.jpeg: PNEUMONIA\n",
            "Prediction for PNEUMONIA\\person1671_virus_2887.jpeg: PNEUMONIA\n",
            "Prediction for PNEUMONIA\\person1672_virus_2888.jpeg: PNEUMONIA\n",
            "Prediction for PNEUMONIA\\person1673_virus_2889.jpeg: PNEUMONIA\n",
            "Prediction for PNEUMONIA\\person1674_virus_2890.jpeg: PNEUMONIA\n",
            "Prediction for PNEUMONIA\\person1675_virus_2891.jpeg: PNEUMONIA\n",
            "Prediction for PNEUMONIA\\person1676_virus_2892.jpeg: PNEUMONIA\n",
            "Prediction for PNEUMONIA\\person1678_virus_2895.jpeg: PNEUMONIA\n",
            "Prediction for PNEUMONIA\\person1679_virus_2896.jpeg: PNEUMONIA\n",
            "Prediction for PNEUMONIA\\person1680_virus_2897.jpeg: PNEUMONIA\n",
            "Prediction for PNEUMONIA\\person1682_virus_2899.jpeg: PNEUMONIA\n",
            "Prediction for PNEUMONIA\\person1685_virus_2903.jpeg: PNEUMONIA\n",
            "Prediction for PNEUMONIA\\person16_virus_47.jpeg: PNEUMONIA\n",
            "Prediction for PNEUMONIA\\person171_bacteria_826.jpeg: PNEUMONIA\n",
            "Prediction for PNEUMONIA\\person172_bacteria_827.jpeg: PNEUMONIA\n",
            "Prediction for PNEUMONIA\\person172_bacteria_828.jpeg: NORMAL\n",
            "Prediction for PNEUMONIA\\person173_bacteria_829.jpeg: PNEUMONIA\n",
            "Prediction for PNEUMONIA\\person173_bacteria_830.jpeg: PNEUMONIA\n",
            "Prediction for PNEUMONIA\\person173_bacteria_831.jpeg: PNEUMONIA\n",
            "Prediction for PNEUMONIA\\person174_bacteria_832.jpeg: PNEUMONIA\n",
            "Prediction for PNEUMONIA\\person175_bacteria_833.jpeg: PNEUMONIA\n",
            "Prediction for PNEUMONIA\\person175_bacteria_834.jpeg: PNEUMONIA\n",
            "Prediction for PNEUMONIA\\person175_bacteria_835.jpeg: PNEUMONIA\n",
            "Prediction for PNEUMONIA\\person17_virus_48.jpeg: PNEUMONIA\n",
            "Prediction for PNEUMONIA\\person18_virus_49.jpeg: PNEUMONIA\n",
            "Prediction for PNEUMONIA\\person19_virus_50.jpeg: PNEUMONIA\n",
            "Prediction for PNEUMONIA\\person1_virus_11.jpeg: PNEUMONIA\n",
            "Prediction for PNEUMONIA\\person1_virus_12.jpeg: PNEUMONIA\n",
            "Prediction for PNEUMONIA\\person1_virus_13.jpeg: PNEUMONIA\n",
            "Prediction for PNEUMONIA\\person1_virus_6.jpeg: PNEUMONIA\n",
            "Prediction for PNEUMONIA\\person1_virus_7.jpeg: PNEUMONIA\n",
            "Prediction for PNEUMONIA\\person1_virus_8.jpeg: PNEUMONIA\n",
            "Prediction for PNEUMONIA\\person1_virus_9.jpeg: PNEUMONIA\n",
            "Prediction for PNEUMONIA\\person20_virus_51.jpeg: PNEUMONIA\n",
            "Prediction for PNEUMONIA\\person21_virus_52.jpeg: PNEUMONIA\n",
            "Prediction for PNEUMONIA\\person21_virus_53.jpeg: PNEUMONIA\n",
            "Prediction for PNEUMONIA\\person22_virus_54.jpeg: PNEUMONIA\n",
            "Prediction for PNEUMONIA\\person22_virus_55.jpeg: PNEUMONIA\n",
            "Prediction for PNEUMONIA\\person23_virus_56.jpeg: PNEUMONIA\n",
            "Prediction for PNEUMONIA\\person24_virus_58.jpeg: PNEUMONIA\n",
            "Prediction for PNEUMONIA\\person25_virus_59.jpeg: PNEUMONIA\n",
            "Prediction for PNEUMONIA\\person26_virus_60.jpeg: PNEUMONIA\n",
            "Prediction for PNEUMONIA\\person28_virus_62.jpeg: PNEUMONIA\n",
            "Prediction for PNEUMONIA\\person28_virus_63.jpeg: PNEUMONIA\n",
            "Prediction for PNEUMONIA\\person29_virus_64.jpeg: PNEUMONIA\n",
            "Prediction for PNEUMONIA\\person30_virus_69.jpeg: PNEUMONIA\n",
            "Prediction for PNEUMONIA\\person31_virus_70.jpeg: PNEUMONIA\n",
            "Prediction for PNEUMONIA\\person32_virus_71.jpeg: PNEUMONIA\n",
            "Prediction for PNEUMONIA\\person33_virus_72.jpeg: PNEUMONIA\n",
            "Prediction for PNEUMONIA\\person34_virus_76.jpeg: PNEUMONIA\n",
            "Prediction for PNEUMONIA\\person35_virus_80.jpeg: PNEUMONIA\n",
            "Prediction for PNEUMONIA\\person36_virus_81.jpeg: PNEUMONIA\n",
            "Prediction for PNEUMONIA\\person37_virus_82.jpeg: PNEUMONIA\n",
            "Prediction for PNEUMONIA\\person38_virus_83.jpeg: PNEUMONIA\n",
            "Prediction for PNEUMONIA\\person38_virus_84.jpeg: PNEUMONIA\n",
            "Prediction for PNEUMONIA\\person39_virus_85.jpeg: PNEUMONIA\n",
            "Prediction for PNEUMONIA\\person3_virus_15.jpeg: PNEUMONIA\n",
            "Prediction for PNEUMONIA\\person3_virus_16.jpeg: PNEUMONIA\n",
            "Prediction for PNEUMONIA\\person3_virus_17.jpeg: PNEUMONIA\n",
            "Prediction for PNEUMONIA\\person40_virus_87.jpeg: PNEUMONIA\n",
            "Prediction for PNEUMONIA\\person41_virus_88.jpeg: PNEUMONIA\n",
            "Prediction for PNEUMONIA\\person42_virus_89.jpeg: PNEUMONIA\n",
            "Prediction for PNEUMONIA\\person43_virus_92.jpeg: PNEUMONIA\n",
            "Prediction for PNEUMONIA\\person44_virus_93.jpeg: PNEUMONIA\n",
            "Prediction for PNEUMONIA\\person44_virus_94.jpeg: PNEUMONIA\n",
            "Prediction for PNEUMONIA\\person45_virus_95.jpeg: PNEUMONIA\n",
            "Prediction for PNEUMONIA\\person46_virus_96.jpeg: PNEUMONIA\n",
            "Prediction for PNEUMONIA\\person47_virus_99.jpeg: PNEUMONIA\n",
            "Prediction for PNEUMONIA\\person48_virus_100.jpeg: PNEUMONIA\n",
            "Prediction for PNEUMONIA\\person49_virus_101.jpeg: PNEUMONIA\n",
            "Prediction for PNEUMONIA\\person50_virus_102.jpeg: PNEUMONIA\n",
            "Prediction for PNEUMONIA\\person51_virus_105.jpeg: PNEUMONIA\n",
            "Prediction for PNEUMONIA\\person52_virus_106.jpeg: PNEUMONIA\n",
            "Prediction for PNEUMONIA\\person53_virus_107.jpeg: PNEUMONIA\n",
            "Prediction for PNEUMONIA\\person53_virus_108.jpeg: PNEUMONIA\n",
            "Prediction for PNEUMONIA\\person54_virus_109.jpeg: PNEUMONIA\n",
            "Prediction for PNEUMONIA\\person55_virus_110.jpeg: PNEUMONIA\n",
            "Prediction for PNEUMONIA\\person56_virus_112.jpeg: PNEUMONIA\n",
            "Prediction for PNEUMONIA\\person57_virus_113.jpeg: PNEUMONIA\n",
            "Prediction for PNEUMONIA\\person59_virus_116.jpeg: PNEUMONIA\n",
            "Prediction for PNEUMONIA\\person60_virus_117.jpeg: PNEUMONIA\n",
            "Prediction for PNEUMONIA\\person61_virus_118.jpeg: PNEUMONIA\n",
            "Prediction for PNEUMONIA\\person62_virus_119.jpeg: PNEUMONIA\n",
            "Prediction for PNEUMONIA\\person63_virus_121.jpeg: PNEUMONIA\n",
            "Prediction for PNEUMONIA\\person64_virus_122.jpeg: PNEUMONIA\n",
            "Prediction for PNEUMONIA\\person65_virus_123.jpeg: PNEUMONIA\n",
            "Prediction for PNEUMONIA\\person66_virus_125.jpeg: PNEUMONIA\n",
            "Prediction for PNEUMONIA\\person67_virus_126.jpeg: PNEUMONIA\n",
            "Prediction for PNEUMONIA\\person69_virus_129.jpeg: PNEUMONIA\n",
            "Prediction for PNEUMONIA\\person70_virus_130.jpeg: PNEUMONIA\n",
            "Prediction for PNEUMONIA\\person71_virus_131.jpeg: PNEUMONIA\n",
            "Prediction for PNEUMONIA\\person71_virus_132.jpeg: PNEUMONIA\n",
            "Prediction for PNEUMONIA\\person72_virus_133.jpeg: PNEUMONIA\n",
            "Prediction for PNEUMONIA\\person74_virus_135.jpeg: PNEUMONIA\n",
            "Prediction for PNEUMONIA\\person75_virus_136.jpeg: PNEUMONIA\n",
            "Prediction for PNEUMONIA\\person76_virus_138.jpeg: PNEUMONIA\n",
            "Prediction for PNEUMONIA\\person77_virus_139.jpeg: PNEUMONIA\n",
            "Prediction for PNEUMONIA\\person78_bacteria_378.jpeg: PNEUMONIA\n",
            "Prediction for PNEUMONIA\\person78_bacteria_380.jpeg: PNEUMONIA\n",
            "Prediction for PNEUMONIA\\person78_bacteria_381.jpeg: PNEUMONIA\n",
            "Prediction for PNEUMONIA\\person78_bacteria_382.jpeg: PNEUMONIA\n",
            "Prediction for PNEUMONIA\\person78_bacteria_384.jpeg: PNEUMONIA\n",
            "Prediction for PNEUMONIA\\person78_bacteria_385.jpeg: PNEUMONIA\n",
            "Prediction for PNEUMONIA\\person78_bacteria_386.jpeg: PNEUMONIA\n",
            "Prediction for PNEUMONIA\\person78_bacteria_387.jpeg: PNEUMONIA\n",
            "Prediction for PNEUMONIA\\person78_virus_140.jpeg: PNEUMONIA\n",
            "Prediction for PNEUMONIA\\person79_virus_148.jpeg: PNEUMONIA\n",
            "Prediction for PNEUMONIA\\person80_bacteria_389.jpeg: PNEUMONIA\n",
            "Prediction for PNEUMONIA\\person80_bacteria_390.jpeg: PNEUMONIA\n",
            "Prediction for PNEUMONIA\\person80_bacteria_391.jpeg: PNEUMONIA\n",
            "Prediction for PNEUMONIA\\person80_bacteria_392.jpeg: PNEUMONIA\n",
            "Prediction for PNEUMONIA\\person80_bacteria_393.jpeg: PNEUMONIA\n",
            "Prediction for PNEUMONIA\\person81_bacteria_395.jpeg: PNEUMONIA\n",
            "Prediction for PNEUMONIA\\person81_bacteria_396.jpeg: PNEUMONIA\n",
            "Prediction for PNEUMONIA\\person81_bacteria_397.jpeg: PNEUMONIA\n",
            "Prediction for PNEUMONIA\\person81_bacteria_398.jpeg: PNEUMONIA\n",
            "Prediction for PNEUMONIA\\person82_bacteria_402.jpeg: PNEUMONIA\n",
            "Prediction for PNEUMONIA\\person82_bacteria_403.jpeg: PNEUMONIA\n",
            "Prediction for PNEUMONIA\\person82_bacteria_404.jpeg: PNEUMONIA\n",
            "Prediction for PNEUMONIA\\person82_bacteria_405.jpeg: PNEUMONIA\n",
            "Prediction for PNEUMONIA\\person83_bacteria_407.jpeg: NORMAL\n",
            "Prediction for PNEUMONIA\\person83_bacteria_409.jpeg: PNEUMONIA\n",
            "Prediction for PNEUMONIA\\person83_bacteria_410.jpeg: PNEUMONIA\n",
            "Prediction for PNEUMONIA\\person83_bacteria_411.jpeg: PNEUMONIA\n",
            "Prediction for PNEUMONIA\\person83_bacteria_412.jpeg: PNEUMONIA\n",
            "Prediction for PNEUMONIA\\person83_bacteria_414.jpeg: PNEUMONIA\n",
            "Prediction for PNEUMONIA\\person85_bacteria_417.jpeg: PNEUMONIA\n",
            "Prediction for PNEUMONIA\\person85_bacteria_419.jpeg: PNEUMONIA\n",
            "Prediction for PNEUMONIA\\person85_bacteria_421.jpeg: PNEUMONIA\n",
            "Prediction for PNEUMONIA\\person85_bacteria_422.jpeg: PNEUMONIA\n",
            "Prediction for PNEUMONIA\\person85_bacteria_423.jpeg: PNEUMONIA\n",
            "Prediction for PNEUMONIA\\person85_bacteria_424.jpeg: PNEUMONIA\n",
            "Prediction for PNEUMONIA\\person86_bacteria_428.jpeg: PNEUMONIA\n",
            "Prediction for PNEUMONIA\\person86_bacteria_429.jpeg: PNEUMONIA\n",
            "Prediction for PNEUMONIA\\person87_bacteria_433.jpeg: PNEUMONIA\n",
            "Prediction for PNEUMONIA\\person87_bacteria_434.jpeg: PNEUMONIA\n",
            "Prediction for PNEUMONIA\\person88_bacteria_437.jpeg: PNEUMONIA\n",
            "Prediction for PNEUMONIA\\person88_bacteria_438.jpeg: PNEUMONIA\n",
            "Prediction for PNEUMONIA\\person88_bacteria_439.jpeg: NORMAL\n",
            "Prediction for PNEUMONIA\\person89_bacteria_440.jpeg: PNEUMONIA\n",
            "Prediction for PNEUMONIA\\person8_virus_27.jpeg: PNEUMONIA\n",
            "Prediction for PNEUMONIA\\person8_virus_28.jpeg: PNEUMONIA\n",
            "Prediction for PNEUMONIA\\person90_bacteria_442.jpeg: PNEUMONIA\n",
            "Prediction for PNEUMONIA\\person90_bacteria_443.jpeg: PNEUMONIA\n",
            "Prediction for PNEUMONIA\\person91_bacteria_445.jpeg: PNEUMONIA\n",
            "Prediction for PNEUMONIA\\person91_bacteria_446.jpeg: PNEUMONIA\n",
            "Prediction for PNEUMONIA\\person91_bacteria_447.jpeg: PNEUMONIA\n",
            "Prediction for PNEUMONIA\\person91_bacteria_448.jpeg: PNEUMONIA\n",
            "Prediction for PNEUMONIA\\person91_bacteria_449.jpeg: PNEUMONIA\n",
            "Prediction for PNEUMONIA\\person92_bacteria_450.jpeg: PNEUMONIA\n",
            "Prediction for PNEUMONIA\\person92_bacteria_451.jpeg: PNEUMONIA\n",
            "Prediction for PNEUMONIA\\person93_bacteria_453.jpeg: PNEUMONIA\n",
            "Prediction for PNEUMONIA\\person93_bacteria_454.jpeg: PNEUMONIA\n",
            "Prediction for PNEUMONIA\\person94_bacteria_456.jpeg: PNEUMONIA\n",
            "Prediction for PNEUMONIA\\person94_bacteria_457.jpeg: PNEUMONIA\n",
            "Prediction for PNEUMONIA\\person94_bacteria_458.jpeg: PNEUMONIA\n",
            "Prediction for PNEUMONIA\\person95_bacteria_463.jpeg: PNEUMONIA\n",
            "Prediction for PNEUMONIA\\person96_bacteria_464.jpeg: PNEUMONIA\n",
            "Prediction for PNEUMONIA\\person96_bacteria_465.jpeg: PNEUMONIA\n",
            "Prediction for PNEUMONIA\\person96_bacteria_466.jpeg: PNEUMONIA\n",
            "Prediction for PNEUMONIA\\person97_bacteria_468.jpeg: PNEUMONIA\n",
            "Prediction for PNEUMONIA\\person99_bacteria_473.jpeg: PNEUMONIA\n",
            "Prediction for PNEUMONIA\\person99_bacteria_474.jpeg: PNEUMONIA\n"
          ]
        }
      ],
      "source": [
        "import numpy as np\n",
        "\n",
        "predictions = cnn.predict_generator(test_set, steps=len(test_set), verbose=1)\n",
        "\n",
        "y_pred = np.rint(predictions).astype(int)\n",
        "\n",
        "labels = (test_set.class_indices)\n",
        "labels = dict((v,k) for k,v in labels.items())\n",
        "predicted_labels = [labels[p[0]] for p in y_pred]\n",
        "\n",
        "for file, prediction in zip(test_set.filenames, predicted_labels):\n",
        "    print(f'Prediction for {file}: {prediction}')"
      ]
    },
    {
      "cell_type": "markdown",
      "metadata": {},
      "source": [
        "### Showing Metrics"
      ]
    },
    {
      "cell_type": "code",
      "execution_count": 90,
      "metadata": {},
      "outputs": [],
      "source": [
        "from sklearn.metrics import f1_score, recall_score, precision_score, accuracy_score, confusion_matrix\n",
        "\n",
        "y_true = test_set.classes"
      ]
    },
    {
      "cell_type": "code",
      "execution_count": 129,
      "metadata": {},
      "outputs": [
        {
          "data": {
            "image/png": "[encoded data removed]",
            "text/plain": [
              "<Figure size 400x300 with 2 Axes>"
            ]
          },
          "metadata": {},
          "output_type": "display_data"
        }
      ],
      "source": [
        "import seaborn as sns\n",
        "\n",
        "cm = confusion_matrix(y_true, y_pred)\n",
        "\n",
        "fig, ax = plt.subplots(figsize=(4,3))\n",
        "sns.heatmap(cm, annot=True, fmt='d',cmap='coolwarm',ax=ax)\n",
        "ax.set_xlabel('Predicted')\n",
        "ax.set_ylabel('Actual')\n",
        "ax.set_title('Confusion matrix', fontsize=16)\n",
        "\n",
        "ax.invert_yaxis()\n",
        "ax.invert_xaxis()\n",
        "\n",
        "plt.show()"
      ]
    },
    {
      "cell_type": "code",
      "execution_count": 135,
      "metadata": {},
      "outputs": [
        {
          "name": "stdout",
          "output_type": "stream",
          "text": [
            "+-----------+--------+\n",
            "|  Metric   | Value  |\n",
            "+-----------+--------+\n",
            "| F1 Score  | 0.9097 |\n",
            "|  Recall   | 0.9821 |\n",
            "| Precision | 0.8473 |\n",
            "| Accuracy  | 0.8782 |\n",
            "+-----------+--------+\n"
          ]
        }
      ],
      "source": [
        "from tabulate import tabulate\n",
        "\n",
        "f1 = f1_score(y_true, y_pred)\n",
        "recall = recall_score(y_true, y_pred)\n",
        "precision = precision_score(y_true, y_pred)\n",
        "accuracy = accuracy_score(y_true, y_pred)\n",
        "\n",
        "headers = [\"Metric\", \"Value\"]\n",
        "values = [[\"F1 Score\", f\"{f1:.4f}\"],\n",
        "          [\"Recall\", f\"{recall:.4f}\"],\n",
        "          [\"Precision\", f\"{precision:.4f}\"],\n",
        "          [\"Accuracy\", f\"{accuracy:.4f}\"]]\n",
        "\n",
        "# Create and print the table\n",
        "print(tabulate(values, headers, tablefmt=\"pretty\"))"
      ]
    }
  ],
  "metadata": {
    "colab": {
      "collapsed_sections": [],
      "name": "convolutional_neural_network.ipynb",
      "provenance": [],
      "toc_visible": true
    },
    "kernelspec": {
      "display_name": "Python 3",
      "name": "python3"
    },
    "language_info": {
      "codemirror_mode": {
        "name": "ipython",
        "version": 3
      },
      "file_extension": ".py",
      "mimetype": "text/x-python",
      "name": "python",
      "nbconvert_exporter": "python",
      "pygments_lexer": "ipython3",
      "version": "3.11.7"
    }
  },
  "nbformat": 4,
  "nbformat_minor": 0
}
