{
  "cells": [
    {
      "cell_type": "markdown",
      "metadata": {
        "colab_type": "text",
        "id": "3DR-eO17geWu"
      },
      "source": [
        "# Convolutional Neural Network"
      ]
    },
    {
      "cell_type": "markdown",
      "metadata": {
        "colab_type": "text",
        "id": "EMefrVPCg-60"
      },
      "source": [
        "### Importing the libraries"
      ]
    },
    {
      "cell_type": "code",
      "execution_count": 20,
      "metadata": {
        "colab": {},
        "colab_type": "code",
        "id": "sCV30xyVhFbE"
      },
      "outputs": [],
      "source": [
        "import tensorflow as tf\n",
        "from keras.preprocessing.image import ImageDataGenerator"
      ]
    },
    {
      "cell_type": "code",
      "execution_count": 21,
      "metadata": {
        "colab": {},
        "colab_type": "code",
        "id": "FIleuCAjoFD8"
      },
      "outputs": [
        {
          "data": {
            "text/plain": [
              "'2.15.0'"
            ]
          },
          "execution_count": 21,
          "metadata": {},
          "output_type": "execute_result"
        }
      ],
      "source": [
        "tf.__version__"
      ]
    },
    {
      "cell_type": "markdown",
      "metadata": {
        "colab_type": "text",
        "id": "oxQxCBWyoGPE"
      },
      "source": [
        "## Part 1 - Data Preprocessing"
      ]
    },
    {
      "cell_type": "markdown",
      "metadata": {
        "colab_type": "text",
        "id": "MvE-heJNo3GG"
      },
      "source": [
        "### Preprocessing the Training set"
      ]
    },
    {
      "cell_type": "code",
      "execution_count": 22,
      "metadata": {
        "colab": {},
        "colab_type": "code",
        "id": "0koUcJMJpEBD"
      },
      "outputs": [
        {
          "name": "stdout",
          "output_type": "stream",
          "text": [
            "Found 5216 images belonging to 2 classes.\n"
          ]
        }
      ],
      "source": [
        "train_datagen = ImageDataGenerator(rescale = 1./255,\n",
        "                                   shear_range = 0.2,\n",
        "                                   zoom_range = 0.2,\n",
        "                                   horizontal_flip = True)\n",
        "training_set = train_datagen.flow_from_directory('train',\n",
        "                                                 target_size = (64, 64),\n",
        "                                                 batch_size = 32,\n",
        "                                                 class_mode = 'binary')"
      ]
    },
    {
      "cell_type": "markdown",
      "metadata": {
        "colab_type": "text",
        "id": "mrCMmGw9pHys"
      },
      "source": [
        "### Preprocessing the Test set"
      ]
    },
    {
      "cell_type": "code",
      "execution_count": 23,
      "metadata": {
        "colab": {},
        "colab_type": "code",
        "id": "SH4WzfOhpKc3"
      },
      "outputs": [
        {
          "name": "stdout",
          "output_type": "stream",
          "text": [
            "Found 624 images belonging to 2 classes.\n"
          ]
        }
      ],
      "source": [
        "test_datagen = ImageDataGenerator(rescale = 1./255)\n",
        "test_set = test_datagen.flow_from_directory('test',\n",
        "                                            target_size = (64, 64),\n",
        "                                            batch_size = 32,\n",
        "                                            class_mode = 'binary')"
      ]
    },
    {
      "cell_type": "markdown",
      "metadata": {
        "colab_type": "text",
        "id": "af8O4l90gk7B"
      },
      "source": [
        "## Part 2 - Building the CNN"
      ]
    },
    {
      "cell_type": "markdown",
      "metadata": {
        "colab_type": "text",
        "id": "ces1gXY2lmoX"
      },
      "source": [
        "### Initialising the CNN"
      ]
    },
    {
      "cell_type": "code",
      "execution_count": 24,
      "metadata": {
        "colab": {},
        "colab_type": "code",
        "id": "SAUt4UMPlhLS"
      },
      "outputs": [],
      "source": [
        "cnn = tf.keras.models.Sequential()"
      ]
    },
    {
      "cell_type": "markdown",
      "metadata": {
        "colab_type": "text",
        "id": "u5YJj_XMl5LF"
      },
      "source": [
        "### Step 1 - Convolution"
      ]
    },
    {
      "cell_type": "code",
      "execution_count": 25,
      "metadata": {
        "colab": {},
        "colab_type": "code",
        "id": "XPzPrMckl-hV"
      },
      "outputs": [],
      "source": [
        "cnn.add(tf.keras.layers.Conv2D(filters=32, kernel_size=3, activation='relu', input_shape=[64, 64, 3]))"
      ]
    },
    {
      "cell_type": "markdown",
      "metadata": {
        "colab_type": "text",
        "id": "tf87FpvxmNOJ"
      },
      "source": [
        "### Step 2 - Pooling"
      ]
    },
    {
      "cell_type": "code",
      "execution_count": 26,
      "metadata": {
        "colab": {},
        "colab_type": "code",
        "id": "ncpqPl69mOac"
      },
      "outputs": [],
      "source": [
        "cnn.add(tf.keras.layers.MaxPool2D(pool_size=2, strides=2))"
      ]
    },
    {
      "cell_type": "markdown",
      "metadata": {
        "colab_type": "text",
        "id": "xaTOgD8rm4mU"
      },
      "source": [
        "### Adding a second convolutional layer"
      ]
    },
    {
      "cell_type": "code",
      "execution_count": 27,
      "metadata": {
        "colab": {},
        "colab_type": "code",
        "id": "i_-FZjn_m8gk"
      },
      "outputs": [],
      "source": [
        "cnn.add(tf.keras.layers.Conv2D(filters=32, kernel_size=3, activation='relu'))\n",
        "cnn.add(tf.keras.layers.MaxPool2D(pool_size=2, strides=2))"
      ]
    },
    {
      "cell_type": "markdown",
      "metadata": {
        "colab_type": "text",
        "id": "tmiEuvTunKfk"
      },
      "source": [
        "### Step 3 - Flattening"
      ]
    },
    {
      "cell_type": "code",
      "execution_count": 28,
      "metadata": {
        "colab": {},
        "colab_type": "code",
        "id": "6AZeOGCvnNZn"
      },
      "outputs": [],
      "source": [
        "cnn.add(tf.keras.layers.Flatten())"
      ]
    },
    {
      "cell_type": "markdown",
      "metadata": {
        "colab_type": "text",
        "id": "dAoSECOm203v"
      },
      "source": [
        "### Step 4 - Full Connection"
      ]
    },
    {
      "cell_type": "code",
      "execution_count": 29,
      "metadata": {
        "colab": {},
        "colab_type": "code",
        "id": "8GtmUlLd26Nq"
      },
      "outputs": [],
      "source": [
        "cnn.add(tf.keras.layers.Dense(units=128, activation='relu'))"
      ]
    },
    {
      "cell_type": "markdown",
      "metadata": {
        "colab_type": "text",
        "id": "yTldFvbX28Na"
      },
      "source": [
        "### Step 5 - Output Layer"
      ]
    },
    {
      "cell_type": "code",
      "execution_count": 30,
      "metadata": {
        "colab": {},
        "colab_type": "code",
        "id": "1p_Zj1Mc3Ko_"
      },
      "outputs": [],
      "source": [
        "cnn.add(tf.keras.layers.Dense(units=1, activation='sigmoid'))"
      ]
    },
    {
      "cell_type": "markdown",
      "metadata": {
        "colab_type": "text",
        "id": "D6XkI90snSDl"
      },
      "source": [
        "## Part 3 - Training the CNN"
      ]
    },
    {
      "cell_type": "markdown",
      "metadata": {
        "colab_type": "text",
        "id": "vfrFQACEnc6i"
      },
      "source": [
        "### Compiling the CNN"
      ]
    },
    {
      "cell_type": "code",
      "execution_count": 31,
      "metadata": {
        "colab": {},
        "colab_type": "code",
        "id": "NALksrNQpUlJ"
      },
      "outputs": [],
      "source": [
        "cnn.compile(optimizer = 'adam', loss = 'binary_crossentropy', metrics = ['accuracy'])"
      ]
    },
    {
      "cell_type": "markdown",
      "metadata": {
        "colab_type": "text",
        "id": "ehS-v3MIpX2h"
      },
      "source": [
        "### Training the CNN on the Training set and evaluating it on the Test set"
      ]
    },
    {
      "cell_type": "code",
      "execution_count": 32,
      "metadata": {
        "colab": {},
        "colab_type": "code",
        "id": "XUj1W4PJptta"
      },
      "outputs": [
        {
          "name": "stdout",
          "output_type": "stream",
          "text": [
            "Epoch 1/5\n",
            "163/163 [==============================] - 46s 276ms/step - loss: 0.3501 - accuracy: 0.8414 - val_loss: 0.3413 - val_accuracy: 0.8478\n",
            "Epoch 2/5\n",
            "163/163 [==============================] - 54s 334ms/step - loss: 0.2268 - accuracy: 0.9066 - val_loss: 0.4644 - val_accuracy: 0.7997\n",
            "Epoch 3/5\n",
            "163/163 [==============================] - 45s 279ms/step - loss: 0.2009 - accuracy: 0.9222 - val_loss: 0.3708 - val_accuracy: 0.8301\n",
            "Epoch 4/5\n",
            "163/163 [==============================] - 62s 380ms/step - loss: 0.1809 - accuracy: 0.9317 - val_loss: 0.2831 - val_accuracy: 0.8846\n",
            "Epoch 5/5\n",
            "163/163 [==============================] - 63s 386ms/step - loss: 0.1802 - accuracy: 0.9331 - val_loss: 0.3830 - val_accuracy: 0.8558\n"
          ]
        },
        {
          "data": {
            "text/plain": [
              "<keras.src.callbacks.History at 0x1bc02bf8510>"
            ]
          },
          "execution_count": 32,
          "metadata": {},
          "output_type": "execute_result"
        }
      ],
      "source": [
        "EPOCH_SIZE = 5 #change this to 25 for better accuracy, using 5 for speed\n",
        "cnn.fit(x = training_set, validation_data = test_set, epochs = EPOCH_SIZE)"
      ]
    },
    {
      "cell_type": "markdown",
      "metadata": {
        "colab_type": "text",
        "id": "U3PZasO0006Z"
      },
      "source": [
        "## Part 4 - Making a predictions"
      ]
    },
    {
      "cell_type": "code",
      "execution_count": 33,
      "metadata": {
        "colab": {},
        "colab_type": "code",
        "id": "gsSiWEJY1BPB"
      },
      "outputs": [
        {
          "name": "stdout",
          "output_type": "stream",
          "text": [
            "1/1 [==============================] - 0s 142ms/step\n",
            "Prediction for NORMAL2-IM-1430-0001.jpeg: Normal\n",
            "\n",
            "1/1 [==============================] - 0s 25ms/step\n",
            "Prediction for person1947_bacteria_4876.jpeg: Pneumonia\n",
            "\n",
            "1/1 [==============================] - 0s 36ms/step\n",
            "Prediction for person1951_bacteria_4882.jpeg: Pneumonia\n",
            "\n",
            "1/1 [==============================] - 0s 43ms/step\n",
            "Prediction for person1954_bacteria_4886.jpeg: Pneumonia\n",
            "\n",
            "1/1 [==============================] - 0s 29ms/step\n",
            "Prediction for NORMAL2-IM-1442-0001.jpeg: Normal\n",
            "\n",
            "1/1 [==============================] - 0s 43ms/step\n",
            "Prediction for person1946_bacteria_4875.jpeg: Pneumonia\n",
            "\n",
            "1/1 [==============================] - 0s 24ms/step\n",
            "Prediction for person1952_bacteria_4883.jpeg: Pneumonia\n",
            "\n",
            "1/1 [==============================] - 0s 39ms/step\n",
            "Prediction for NORMAL2-IM-1427-0001.jpeg: Pneumonia\n",
            "\n",
            "1/1 [==============================] - 0s 28ms/step\n",
            "Prediction for NORMAL2-IM-1431-0001.jpeg: Normal\n",
            "\n",
            "1/1 [==============================] - 0s 39ms/step\n",
            "Prediction for NORMAL2-IM-1436-0001.jpeg: Normal\n",
            "\n",
            "1/1 [==============================] - 0s 42ms/step\n",
            "Prediction for person1950_bacteria_4881.jpeg: Pneumonia\n",
            "\n",
            "1/1 [==============================] - 0s 31ms/step\n",
            "Prediction for person1946_bacteria_4874.jpeg: Pneumonia\n",
            "\n",
            "1/1 [==============================] - 0s 31ms/step\n",
            "Prediction for NORMAL2-IM-1438-0001.jpeg: Normal\n",
            "\n",
            "1/1 [==============================] - 0s 43ms/step\n",
            "Prediction for NORMAL2-IM-1440-0001.jpeg: Normal\n",
            "\n",
            "1/1 [==============================] - 0s 31ms/step\n",
            "Prediction for NORMAL2-IM-1437-0001.jpeg: Pneumonia\n",
            "\n",
            "1/1 [==============================] - 0s 28ms/step\n",
            "Prediction for person1949_bacteria_4880.jpeg: Pneumonia\n",
            "\n"
          ]
        }
      ],
      "source": [
        "import os\n",
        "import numpy as np\n",
        "from keras.preprocessing import image\n",
        "import random\n",
        "\n",
        "PNEUMONIA_PREDICTION_THRESHOLD = 0.7 #Change it to 0.9 when using 25 epochs\n",
        "\n",
        "def predict_image(model, img_path):\n",
        "    img = image.load_img(img_path, target_size=(64, 64))\n",
        "    img_tensor = image.img_to_array(img)\n",
        "    img_tensor = np.expand_dims(img_tensor, axis=0)\n",
        "    img_tensor /= 255.  # Model was trained with inputs scaled to [0, 1]\n",
        "\n",
        "    prediction = model.predict(img_tensor)\n",
        "    return 'Pneumonia' if prediction[0][0] > PNEUMONIA_PREDICTION_THRESHOLD else 'Normal'\n",
        "\n",
        "# Define your directories\n",
        "normal_dir = 'val/NORMAL'\n",
        "pneumonia_dir = 'val/PNEUMONIA'\n",
        "\n",
        "# Get list of all files in each directory\n",
        "normal_files = [os.path.join(normal_dir, f) for f in os.listdir(normal_dir)]\n",
        "pneumonia_files = [os.path.join(pneumonia_dir, f) for f in os.listdir(pneumonia_dir)]\n",
        "\n",
        "# Combine the lists and shuffle\n",
        "all_files = normal_files + pneumonia_files\n",
        "random.shuffle(all_files)\n",
        "\n",
        "# Predict each image in the shuffled list\n",
        "for f in all_files:\n",
        "    prediction = predict_image(cnn, f)\n",
        "    print(f'Prediction for {os.path.basename(f)}: {prediction}\\n')"
      ]
    },
    {
      "cell_type": "code",
      "execution_count": 34,
      "metadata": {
        "colab": {},
        "colab_type": "code",
        "id": "ED9KB3I54c1i"
      },
      "outputs": [
        {
          "name": "stdout",
          "output_type": "stream",
          "text": [
            "Pneumonia\n"
          ]
        }
      ],
      "source": [
        "print(prediction)"
      ]
    }
  ],
  "metadata": {
    "colab": {
      "collapsed_sections": [],
      "name": "convolutional_neural_network.ipynb",
      "provenance": [],
      "toc_visible": true
    },
    "kernelspec": {
      "display_name": "Python 3",
      "name": "python3"
    },
    "language_info": {
      "codemirror_mode": {
        "name": "ipython",
        "version": 3
      },
      "file_extension": ".py",
      "mimetype": "text/x-python",
      "name": "python",
      "nbconvert_exporter": "python",
      "pygments_lexer": "ipython3",
      "version": "3.11.7"
    }
  },
  "nbformat": 4,
  "nbformat_minor": 0
}
